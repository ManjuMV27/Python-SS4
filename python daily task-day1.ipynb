{
 "cells": [
  {
   "cell_type": "markdown",
   "id": "fb374af6",
   "metadata": {},
   "source": [
    "# 1 Write a Python program to get a string made of the first 2 and last 2 characters of a given string. If the string length is less than 2, return the empty string instead."
   ]
  },
  {
   "cell_type": "code",
   "execution_count": 3,
   "id": "2a286e02",
   "metadata": {},
   "outputs": [
    {
     "name": "stdout",
     "output_type": "stream",
     "text": [
      "enter the string'w3resource'\n",
      "'w3resource'\n",
      "'we'\n"
     ]
    }
   ],
   "source": [
    "def get_string(s):\n",
    "    if len(s) < 2:\n",
    "        return \"empty string\"\n",
    "    else:\n",
    "        s1 = s[0:2] + s[-2:]\n",
    "        return s1\n",
    "\n",
    "\n",
    "x = input(\"enter the string\")\n",
    "s1=get_string(x)\n",
    "print(x)\n",
    "print(s1)"
   ]
  },
  {
   "cell_type": "markdown",
   "id": "a54d3d85",
   "metadata": {},
   "source": [
    "# 2.Write a Python program to add 'ing' at the end of a given string (length should be at least 3). If the given string already ends with 'ing', add 'ly' instead. If the string length of the given string is less than 3, leave it unchanged."
   ]
  },
  {
   "cell_type": "code",
   "execution_count": 4,
   "id": "41055a28",
   "metadata": {},
   "outputs": [
    {
     "name": "stdout",
     "output_type": "stream",
     "text": [
      "enter the string'abc'\n",
      "'abc'\n",
      "'abc'ing\n"
     ]
    }
   ],
   "source": [
    "def get_string(s):\n",
    "    if len(s)<3:\n",
    "        return s\n",
    "    else:\n",
    "        if s[-3:]==\"ing\":\n",
    "            s=s.replace(\"ing\",\"ly\")\n",
    "            return s\n",
    "        else:\n",
    "            return s+\"ing\"\n",
    "x = input(\"enter the string\")\n",
    "s1=get_string(x)\n",
    "print(x)\n",
    "print(s1)\n",
    "        "
   ]
  },
  {
   "cell_type": "markdown",
   "id": "2bf30f08",
   "metadata": {},
   "source": [
    "# 3.Write a Python program to create a set and iterate over sets."
   ]
  },
  {
   "cell_type": "code",
   "execution_count": 5,
   "id": "288015a1",
   "metadata": {},
   "outputs": [
    {
     "name": "stdout",
     "output_type": "stream",
     "text": [
      "grapes\n",
      "apple\n",
      "banana\n",
      "orange\n"
     ]
    }
   ],
   "source": [
    "set={\"apple\",\"banana\",\"grapes\",\"orange\"}\n",
    "for i in set:\n",
    "    print(i)"
   ]
  },
  {
   "cell_type": "markdown",
   "id": "346eaf6a",
   "metadata": {},
   "source": [
    "# 4.Write a Python program to find the length of a given list of non-empty strings."
   ]
  },
  {
   "cell_type": "code",
   "execution_count": 6,
   "id": "44ebae23",
   "metadata": {},
   "outputs": [
    {
     "name": "stdout",
     "output_type": "stream",
     "text": [
      "[3, 3, 7, 5, 2, 4, 0]\n"
     ]
    }
   ],
   "source": [
    "def test(strs):\n",
    "    l=[]\n",
    "    for i in strs:\n",
    "        l.append(len(i))\n",
    "    return l\n",
    "#strs=['cat', 'car', 'fear', 'centre']\n",
    "strs=['cat', 'dog', 'shatter', 'donut', 'at', 'todo', '']\n",
    "list=test(strs)\n",
    "print(list)"
   ]
  },
  {
   "cell_type": "markdown",
   "id": "625a3fc9",
   "metadata": {},
   "source": [
    "# 5.Write a Python program to replace the last value of tuples in a list.\n",
    "        "
   ]
  },
  {
   "cell_type": "code",
   "execution_count": 1,
   "id": "76103c9f",
   "metadata": {},
   "outputs": [
    {
     "name": "stdout",
     "output_type": "stream",
     "text": [
      "[(10, 20, 40), (40, 50, 60), (70, 80, 90)]\n",
      "[(10, 20, 100), (40, 50, 100), (70, 80, 100)]\n"
     ]
    }
   ],
   "source": [
    "list1=[(10, 20, 40), (40, 50, 60), (70, 80, 90)]\n",
    "x=len(list1)\n",
    "print(list1)\n",
    "for i in range(x):\n",
    "    new_list=list(list1[i])\n",
    "    new_list[-1]=100\n",
    "    list1[i]=tuple(new_list) \n",
    "print(list1)\n"
   ]
  },
  {
   "cell_type": "code",
   "execution_count": null,
   "id": "40c68ce9",
   "metadata": {},
   "outputs": [],
   "source": []
  },
  {
   "cell_type": "code",
   "execution_count": null,
   "id": "36c00511",
   "metadata": {},
   "outputs": [],
   "source": []
  },
  {
   "cell_type": "code",
   "execution_count": null,
   "id": "40014b29",
   "metadata": {},
   "outputs": [],
   "source": []
  }
 ],
 "metadata": {
  "kernelspec": {
   "display_name": "Python 3 (ipykernel)",
   "language": "python",
   "name": "python3"
  },
  "language_info": {
   "codemirror_mode": {
    "name": "ipython",
    "version": 3
   },
   "file_extension": ".py",
   "mimetype": "text/x-python",
   "name": "python",
   "nbconvert_exporter": "python",
   "pygments_lexer": "ipython3",
   "version": "3.9.13"
  }
 },
 "nbformat": 4,
 "nbformat_minor": 5
}
